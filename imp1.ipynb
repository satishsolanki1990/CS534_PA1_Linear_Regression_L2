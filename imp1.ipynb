{
 "cells": [
  {
   "cell_type": "code",
   "execution_count": 143,
   "metadata": {},
   "outputs": [],
   "source": [
    "import pandas as pd\n",
    "import numpy as np\n",
    "pd.set_option('display.max_columns',30) #to see all the columns"
   ]
  },
  {
   "cell_type": "code",
   "execution_count": 144,
   "metadata": {},
   "outputs": [],
   "source": [
    "train = pd.read_csv(\"PA1_train.csv\")"
   ]
  },
  {
   "cell_type": "markdown",
   "metadata": {},
   "source": [
    "# Part 0"
   ]
  },
  {
   "cell_type": "markdown",
   "metadata": {},
   "source": [
    "## (a)"
   ]
  },
  {
   "cell_type": "code",
   "execution_count": 145,
   "metadata": {},
   "outputs": [],
   "source": [
    "# Removing the ID feature :\n",
    "train.drop('id',axis=1,inplace=True)"
   ]
  },
  {
   "cell_type": "markdown",
   "metadata": {},
   "source": [
    "#### Why do you think it is a bad idea to use this feature in learning?\n",
    "___\n",
    "Our goal is to predict the price of a house given its features. The index of the house in the database is not related to its value, that feature came from the extraction process. Using it in learning would increase the complexity of the model for no reason and might cause overfitting."
   ]
  },
  {
   "cell_type": "markdown",
   "metadata": {},
   "source": [
    "## (b)\n",
    "#### Split the date feature into three separate numerical features: month, day , and year. Can you think of better ways of using this date feature?"
   ]
  },
  {
   "cell_type": "code",
   "execution_count": 146,
   "metadata": {},
   "outputs": [],
   "source": [
    "train['month'] = train.date.map(lambda x : x.split('/')[0])\n",
    "train['day'] = train.date.map(lambda x : x.split('/')[1])\n",
    "train['year'] = train.date.map(lambda x : x.split('/')[2])"
   ]
  },
  {
   "cell_type": "markdown",
   "metadata": {},
   "source": [
    "Suggestion of ways to use this date feature :\n",
    "- We could compute the number of days between today and the date the house was sold, that would give us a numerical feature that may partly explain the price of the house.\n",
    "- We could also just keep the `year`, which would be a simpler and categorical version of the first suggestion.\n",
    "- We could create a new feature : the number of years between the building year and the year it was sold."
   ]
  },
  {
   "cell_type": "markdown",
   "metadata": {},
   "source": [
    "## (c)\n",
    "#### Build a table that reports the statistics for each feature. For numerical features, please report the mean, the standard deviation, and the range. Several of the features (waterfront, grade, condition (the later two are ordinal)) that are marked numeric are in fact categorical. For such features, please report the percentage of examples for each category."
   ]
  },
  {
   "cell_type": "code",
   "execution_count": 147,
   "metadata": {},
   "outputs": [],
   "source": [
    "num = ['bedrooms','bathrooms','sqft_living','sqft_lot','floors',\\\n",
    "       'view','sqft_above','sqft_basement','yr_built','yr_renovated'\\\n",
    "       ,'lat','long','sqft_living15','sqft_lot15']\n",
    "cat = ['waterfront','condition','grade']"
   ]
  },
  {
   "cell_type": "code",
   "execution_count": 148,
   "metadata": {},
   "outputs": [
    {
     "data": {
      "text/html": [
       "<div>\n",
       "<style scoped>\n",
       "    .dataframe tbody tr th:only-of-type {\n",
       "        vertical-align: middle;\n",
       "    }\n",
       "\n",
       "    .dataframe tbody tr th {\n",
       "        vertical-align: top;\n",
       "    }\n",
       "\n",
       "    .dataframe thead th {\n",
       "        text-align: right;\n",
       "    }\n",
       "</style>\n",
       "<table border=\"1\" class=\"dataframe\">\n",
       "  <thead>\n",
       "    <tr style=\"text-align: right;\">\n",
       "      <th></th>\n",
       "      <th>Feature</th>\n",
       "      <th>Mean</th>\n",
       "      <th>Standard deviation</th>\n",
       "      <th>Range</th>\n",
       "    </tr>\n",
       "  </thead>\n",
       "  <tbody>\n",
       "    <tr>\n",
       "      <th>bedrooms</th>\n",
       "      <td>bedrooms</td>\n",
       "      <td>3.375200</td>\n",
       "      <td>0.943246</td>\n",
       "      <td>3.200000e+01</td>\n",
       "    </tr>\n",
       "    <tr>\n",
       "      <th>bathrooms</th>\n",
       "      <td>bathrooms</td>\n",
       "      <td>2.118875</td>\n",
       "      <td>0.765128</td>\n",
       "      <td>7.250000e+00</td>\n",
       "    </tr>\n",
       "    <tr>\n",
       "      <th>sqft_living</th>\n",
       "      <td>sqft_living</td>\n",
       "      <td>2080.223200</td>\n",
       "      <td>911.334358</td>\n",
       "      <td>9.520000e+03</td>\n",
       "    </tr>\n",
       "    <tr>\n",
       "      <th>sqft_lot</th>\n",
       "      <td>sqft_lot</td>\n",
       "      <td>15089.201400</td>\n",
       "      <td>41203.894918</td>\n",
       "      <td>1.650787e+06</td>\n",
       "    </tr>\n",
       "    <tr>\n",
       "      <th>floors</th>\n",
       "      <td>floors</td>\n",
       "      <td>1.503700</td>\n",
       "      <td>0.542647</td>\n",
       "      <td>2.500000e+00</td>\n",
       "    </tr>\n",
       "    <tr>\n",
       "      <th>view</th>\n",
       "      <td>view</td>\n",
       "      <td>0.229400</td>\n",
       "      <td>0.755932</td>\n",
       "      <td>4.000000e+00</td>\n",
       "    </tr>\n",
       "    <tr>\n",
       "      <th>sqft_above</th>\n",
       "      <td>sqft_above</td>\n",
       "      <td>1793.099300</td>\n",
       "      <td>830.865434</td>\n",
       "      <td>8.490000e+03</td>\n",
       "    </tr>\n",
       "    <tr>\n",
       "      <th>sqft_basement</th>\n",
       "      <td>sqft_basement</td>\n",
       "      <td>287.123900</td>\n",
       "      <td>435.005264</td>\n",
       "      <td>2.720000e+03</td>\n",
       "    </tr>\n",
       "    <tr>\n",
       "      <th>yr_built</th>\n",
       "      <td>yr_built</td>\n",
       "      <td>1971.124900</td>\n",
       "      <td>29.480594</td>\n",
       "      <td>1.150000e+02</td>\n",
       "    </tr>\n",
       "    <tr>\n",
       "      <th>yr_renovated</th>\n",
       "      <td>yr_renovated</td>\n",
       "      <td>81.226700</td>\n",
       "      <td>394.379804</td>\n",
       "      <td>2.015000e+03</td>\n",
       "    </tr>\n",
       "    <tr>\n",
       "      <th>lat</th>\n",
       "      <td>lat</td>\n",
       "      <td>47.559814</td>\n",
       "      <td>0.138651</td>\n",
       "      <td>6.217000e-01</td>\n",
       "    </tr>\n",
       "    <tr>\n",
       "      <th>long</th>\n",
       "      <td>long</td>\n",
       "      <td>-122.213287</td>\n",
       "      <td>0.141405</td>\n",
       "      <td>1.195000e+00</td>\n",
       "    </tr>\n",
       "    <tr>\n",
       "      <th>sqft_living15</th>\n",
       "      <td>sqft_living15</td>\n",
       "      <td>1994.326100</td>\n",
       "      <td>691.900301</td>\n",
       "      <td>5.650000e+03</td>\n",
       "    </tr>\n",
       "    <tr>\n",
       "      <th>sqft_lot15</th>\n",
       "      <td>sqft_lot15</td>\n",
       "      <td>12746.323400</td>\n",
       "      <td>28241.243043</td>\n",
       "      <td>8.705400e+05</td>\n",
       "    </tr>\n",
       "  </tbody>\n",
       "</table>\n",
       "</div>"
      ],
      "text/plain": [
       "                     Feature          Mean  Standard deviation         Range\n",
       "bedrooms            bedrooms      3.375200            0.943246  3.200000e+01\n",
       "bathrooms          bathrooms      2.118875            0.765128  7.250000e+00\n",
       "sqft_living      sqft_living   2080.223200          911.334358  9.520000e+03\n",
       "sqft_lot            sqft_lot  15089.201400        41203.894918  1.650787e+06\n",
       "floors                floors      1.503700            0.542647  2.500000e+00\n",
       "view                    view      0.229400            0.755932  4.000000e+00\n",
       "sqft_above        sqft_above   1793.099300          830.865434  8.490000e+03\n",
       "sqft_basement  sqft_basement    287.123900          435.005264  2.720000e+03\n",
       "yr_built            yr_built   1971.124900           29.480594  1.150000e+02\n",
       "yr_renovated    yr_renovated     81.226700          394.379804  2.015000e+03\n",
       "lat                      lat     47.559814            0.138651  6.217000e-01\n",
       "long                    long   -122.213287            0.141405  1.195000e+00\n",
       "sqft_living15  sqft_living15   1994.326100          691.900301  5.650000e+03\n",
       "sqft_lot15        sqft_lot15  12746.323400        28241.243043  8.705400e+05"
      ]
     },
     "execution_count": 148,
     "metadata": {},
     "output_type": "execute_result"
    }
   ],
   "source": [
    "pd.DataFrame({'Feature':num,'Mean':train[num].mean(),\\\n",
    "              'Standard deviation':train[num].std(),\\\n",
    "             'Range':train[num].max()-train[num].min()})"
   ]
  },
  {
   "cell_type": "code",
   "execution_count": 149,
   "metadata": {},
   "outputs": [
    {
     "data": {
      "text/html": [
       "<div>\n",
       "<style scoped>\n",
       "    .dataframe tbody tr th:only-of-type {\n",
       "        vertical-align: middle;\n",
       "    }\n",
       "\n",
       "    .dataframe tbody tr th {\n",
       "        vertical-align: top;\n",
       "    }\n",
       "\n",
       "    .dataframe thead th {\n",
       "        text-align: right;\n",
       "    }\n",
       "</style>\n",
       "<table border=\"1\" class=\"dataframe\">\n",
       "  <thead>\n",
       "    <tr style=\"text-align: right;\">\n",
       "      <th></th>\n",
       "      <th>Waterfront categories</th>\n",
       "      <th>w %</th>\n",
       "      <th>Condition categories</th>\n",
       "      <th>c %</th>\n",
       "      <th>Grade categories</th>\n",
       "      <th>g %</th>\n",
       "    </tr>\n",
       "  </thead>\n",
       "  <tbody>\n",
       "    <tr>\n",
       "      <th>0</th>\n",
       "      <td>0</td>\n",
       "      <td>99.3</td>\n",
       "      <td>3</td>\n",
       "      <td>65.3</td>\n",
       "      <td>7</td>\n",
       "      <td>41.30</td>\n",
       "    </tr>\n",
       "    <tr>\n",
       "      <th>1</th>\n",
       "      <td>1</td>\n",
       "      <td>0.7</td>\n",
       "      <td>4</td>\n",
       "      <td>25.69</td>\n",
       "      <td>8</td>\n",
       "      <td>28.38</td>\n",
       "    </tr>\n",
       "    <tr>\n",
       "      <th>2</th>\n",
       "      <td></td>\n",
       "      <td></td>\n",
       "      <td>5</td>\n",
       "      <td>8.12</td>\n",
       "      <td>9</td>\n",
       "      <td>11.82</td>\n",
       "    </tr>\n",
       "    <tr>\n",
       "      <th>3</th>\n",
       "      <td></td>\n",
       "      <td></td>\n",
       "      <td>2</td>\n",
       "      <td>0.76</td>\n",
       "      <td>6</td>\n",
       "      <td>9.33</td>\n",
       "    </tr>\n",
       "    <tr>\n",
       "      <th>4</th>\n",
       "      <td></td>\n",
       "      <td></td>\n",
       "      <td>1</td>\n",
       "      <td>0.13</td>\n",
       "      <td>10</td>\n",
       "      <td>5.47</td>\n",
       "    </tr>\n",
       "    <tr>\n",
       "      <th>5</th>\n",
       "      <td></td>\n",
       "      <td></td>\n",
       "      <td></td>\n",
       "      <td></td>\n",
       "      <td>11</td>\n",
       "      <td>2.10</td>\n",
       "    </tr>\n",
       "    <tr>\n",
       "      <th>6</th>\n",
       "      <td></td>\n",
       "      <td></td>\n",
       "      <td></td>\n",
       "      <td></td>\n",
       "      <td>5</td>\n",
       "      <td>1.05</td>\n",
       "    </tr>\n",
       "    <tr>\n",
       "      <th>7</th>\n",
       "      <td></td>\n",
       "      <td></td>\n",
       "      <td></td>\n",
       "      <td></td>\n",
       "      <td>12</td>\n",
       "      <td>0.39</td>\n",
       "    </tr>\n",
       "    <tr>\n",
       "      <th>8</th>\n",
       "      <td></td>\n",
       "      <td></td>\n",
       "      <td></td>\n",
       "      <td></td>\n",
       "      <td>4</td>\n",
       "      <td>0.11</td>\n",
       "    </tr>\n",
       "    <tr>\n",
       "      <th>9</th>\n",
       "      <td></td>\n",
       "      <td></td>\n",
       "      <td></td>\n",
       "      <td></td>\n",
       "      <td>13</td>\n",
       "      <td>0.05</td>\n",
       "    </tr>\n",
       "  </tbody>\n",
       "</table>\n",
       "</div>"
      ],
      "text/plain": [
       "  Waterfront categories   w % Condition categories    c %  Grade categories  \\\n",
       "0                     0  99.3                    3   65.3                 7   \n",
       "1                     1   0.7                    4  25.69                 8   \n",
       "2                                                5   8.12                 9   \n",
       "3                                                2   0.76                 6   \n",
       "4                                                1   0.13                10   \n",
       "5                                                                        11   \n",
       "6                                                                         5   \n",
       "7                                                                        12   \n",
       "8                                                                         4   \n",
       "9                                                                        13   \n",
       "\n",
       "     g %  \n",
       "0  41.30  \n",
       "1  28.38  \n",
       "2  11.82  \n",
       "3   9.33  \n",
       "4   5.47  \n",
       "5   2.10  \n",
       "6   1.05  \n",
       "7   0.39  \n",
       "8   0.11  \n",
       "9   0.05  "
      ]
     },
     "execution_count": 149,
     "metadata": {},
     "output_type": "execute_result"
    }
   ],
   "source": [
    "d = {}\n",
    "for i in cat:\n",
    "    n = train[cat].nunique().max()-train[cat].nunique()[i]\n",
    "    d[i.capitalize()+ \" categories\"] = list(train[i].value_counts(normalize=True).index)+[' ']*n\n",
    "    d[i[0]+\" %\"] = list(train[i].value_counts(normalize=True)*100)+[' ']*n\n",
    "pd.DataFrame(d)"
   ]
  },
  {
   "cell_type": "markdown",
   "metadata": {},
   "source": [
    "## (d)\n",
    "#### Based on the meaning of the features as well as the statistics, which set of features do you expect to be useful for this task? Why?"
   ]
  },
  {
   "cell_type": "markdown",
   "metadata": {},
   "source": [
    "Some of them ..."
   ]
  },
  {
   "cell_type": "markdown",
   "metadata": {},
   "source": [
    "## (e)\n",
    "#### Normalize all features to the range between 0 and 1 using the training data. Note that when you apply the learned model from the normalized data to test data, you should make sure that you are using the same normalizing procedure as used in training."
   ]
  },
  {
   "cell_type": "markdown",
   "metadata": {},
   "source": [
    "$$Normalize(x)=\\frac{x-min(x)}{max(x)-min(x)}$$"
   ]
  },
  {
   "cell_type": "code",
   "execution_count": 150,
   "metadata": {},
   "outputs": [],
   "source": [
    "for i in train.drop(['dummy','date'],axis=1).columns: #not possible to normalize date so we drop it, also dummy\n",
    "    train[i] = train[i].map(float)\n",
    "    M = train[i].max()\n",
    "    m = train[i].min()\n",
    "    train[i] = train[i].map(lambda x : (x-m)/(M-m))"
   ]
  }
 ],
 "metadata": {
  "kernelspec": {
   "display_name": "Python 3",
   "language": "python",
   "name": "python3"
  },
  "language_info": {
   "codemirror_mode": {
    "name": "ipython",
    "version": 3
   },
   "file_extension": ".py",
   "mimetype": "text/x-python",
   "name": "python",
   "nbconvert_exporter": "python",
   "pygments_lexer": "ipython3",
   "version": "3.6.4"
  }
 },
 "nbformat": 4,
 "nbformat_minor": 2
}
